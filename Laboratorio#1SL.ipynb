{
 "cells": [
  {
   "cell_type": "markdown",
   "metadata": {},
   "source": [
    "# Laboratorio # 1 Statistical Learning"
   ]
  },
  {
   "cell_type": "markdown",
   "metadata": {},
   "source": [
    "Importamos los paquetes."
   ]
  },
  {
   "cell_type": "code",
   "execution_count": 89,
   "metadata": {},
   "outputs": [],
   "source": [
    "import tensorflow as tf\n",
    "import numpy as np\n",
    "import matplotlib.pyplot as plt"
   ]
  },
  {
   "cell_type": "markdown",
   "metadata": {},
   "source": [
    "Fijamos un numero aleatorio."
   ]
  },
  {
   "cell_type": "code",
   "execution_count": 90,
   "metadata": {},
   "outputs": [],
   "source": [
    "np.random.seed(101) \n",
    "tf.set_random_seed(101) "
   ]
  },
  {
   "cell_type": "markdown",
   "metadata": {},
   "source": [
    "Cargamos archivos de datos"
   ]
  },
  {
   "cell_type": "code",
   "execution_count": 91,
   "metadata": {},
   "outputs": [],
   "source": [
    "#CARGAR EL ARCHIVO\n",
    "data = np.load('proyecto_training_data.npy')"
   ]
  },
  {
   "cell_type": "markdown",
   "metadata": {},
   "source": [
    "Particionamos data en train y test."
   ]
  },
  {
   "cell_type": "code",
   "execution_count": null,
   "metadata": {},
   "outputs": [],
   "source": [
    "#PARTICIONAR DATA DE TRAIN Y TEST. 80% DE TRAIN, 20% TEST.\n",
    "n = int(data.shape[0]*0.8)\n",
    "train = data[:n]\n",
    "test = data[n:]\n"
   ]
  },
  {
   "cell_type": "markdown",
   "metadata": {},
   "source": [
    "Reseteamos la carpeta donde guardaremos nuestras graficas."
   ]
  },
  {
   "cell_type": "code",
   "execution_count": 93,
   "metadata": {},
   "outputs": [],
   "source": [
    "tf.reset_default_graph()"
   ]
  },
  {
   "cell_type": "markdown",
   "metadata": {},
   "source": [
    "Grafica de las variables que se utilizaran para la prediccion."
   ]
  },
  {
   "cell_type": "code",
   "execution_count": 94,
   "metadata": {},
   "outputs": [
    {
     "data": {
      "image/png": "[encoded data removed]",
      "text/plain": [
       "<Figure size 432x288 with 1 Axes>"
      ]
     },
     "metadata": {
      "needs_background": "light"
     },
     "output_type": "display_data"
    }
   ],
   "source": [
    "plt.plot(np.array([data[:,1]]),np.array([data[:,0]]), 'o')\n",
    "plt.show()"
   ]
  },
  {
   "cell_type": "markdown",
   "metadata": {},
   "source": [
    "Separamos los vectores en train y test. "
   ]
  },
  {
   "cell_type": "code",
   "execution_count": 99,
   "metadata": {},
   "outputs": [],
   "source": [
    "\n",
    "Ytr = train[:,0]\n",
    "Xtr = train[:,1]\n",
    "Yte = np.reshape(test[:,0], (test.shape[0], 1))\n",
    "Xte = np.reshape(test[:,1], (test.shape[0], 1))\n",
    "\n",
    "m = len(Xtr)"
   ]
  },
  {
   "cell_type": "markdown",
   "metadata": {},
   "source": [
    "Iniciamos con el modelo"
   ]
  },
  {
   "cell_type": "code",
   "execution_count": 115,
   "metadata": {},
   "outputs": [],
   "source": [
    "#Generamos el grafo. \n",
    "grafo = tf.Graph()\n",
    "with grafo.as_default():  \n",
    "    #Creamos todas las variables.\n",
    "    X = tf.placeholder(\"float\") \n",
    "    Y = tf.placeholder(\"float\")\n",
    "    W = tf.Variable(np.random.randn(), name = \"W\") \n",
    "    b = tf.Variable(np.random.randn(), name = \"b\")\n",
    "    learning_rate = tf.placeholder(\"float\")\n",
    "\n",
    "    with tf.name_scope(\"Hipotesis\"):\n",
    "        ypred = tf.add(tf.multiply(X, W), b) \n",
    "\n",
    "    with tf.name_scope(\"Costo\"):\n",
    "        error = tf.reduce_sum(tf.pow(ypred-Y,2))/(2*m)\n",
    "\n",
    "\n",
    "    #Summary cost\n",
    "    summary_cost = tf.summary.scalar(name=\"Grafica_costo\", tensor=error)\n",
    "\n",
    "    learning_rate = 0.0001\n",
    "    # Gradient Descent Optimizer \n",
    "    optimizador = tf.train.GradientDescentOptimizer(learning_rate).minimize(error) \n",
    "\n",
    "    # Variable para inicializar\n",
    "    i = tf.global_variables_initializer() \n",
    "\n",
    "#Inicio del modelo.\n",
    "def modelo(Xtr, Ytr, epoch, learning_rate):\n",
    "    with tf.Session(graph = grafo) as sesion: \n",
    "        writer = tf.summary.FileWriter('./graphs/lr='+str(learning_rate), sesion.graph)\n",
    "        sesion.run(i) \n",
    "        for epoch in range(epoch): \n",
    "            sesion.run(optimizador, feed_dict = {X : Xtr, Y : Ytr}) \n",
    "\n",
    "\n",
    "            #Mostrar resultados cada 2 iteraciones. \n",
    "            if (epoch + 1)% 2 == 0: \n",
    "                c = sesion.run(error, feed_dict = {X : Xtr, Y : Ytr}) \n",
    "                print(\"Epoch\", (epoch + 1), \": Error =\", c, \"W =\", sesion.run(W), \"b =\", sesion.run(b)) \n",
    "\n",
    "            summary = sesion.run(summary_cost, feed_dict={X: Xtr, Y: Ytr})\n",
    "            writer.add_summary(summary, epoch)\n",
    "\n",
    "        training_cost = sesion.run(error, feed_dict ={X: Xtr, Y: Ytr}) \n",
    "        peso = sesion.run(W) \n",
    "        bias = sesion.run(b) \n",
    "        writer.close()"
   ]
  },
  {
   "cell_type": "code",
   "execution_count": 117,
   "metadata": {},
   "outputs": [],
   "source": [
    "#modelo(Xtr, Ytr, 100, 10)\n",
    "#modelo(Xtr, Ytr, 100, 1)\n",
    "#modelo(Xtr, Ytr, 100, 0.1)\n",
    "#modelo(Xtr, Ytr, 100, 0.01)\n",
    "#modelo(Xtr, Ytr, 100, 0.001)\n",
    "#modelo(Xtr, Ytr, 100, 0.0001)"
   ]
  },
  {
   "cell_type": "markdown",
   "metadata": {},
   "source": [
    "Learning rate 10"
   ]
  },
  {
   "cell_type": "markdown",
   "metadata": {},
   "source": [
    "![](lr10.png)"
   ]
  },
  {
   "cell_type": "markdown",
   "metadata": {},
   "source": [
    "## Learning rate 1"
   ]
  },
  {
   "cell_type": "markdown",
   "metadata": {},
   "source": [
    "![](lr1.png)"
   ]
  },
  {
   "cell_type": "markdown",
   "metadata": {},
   "source": [
    "## Learning rate 0.1"
   ]
  },
  {
   "cell_type": "markdown",
   "metadata": {},
   "source": [
    "![](lr0p1.png)"
   ]
  },
  {
   "cell_type": "markdown",
   "metadata": {},
   "source": [
    "## Learning rate 0.01"
   ]
  },
  {
   "cell_type": "markdown",
   "metadata": {},
   "source": [
    "![](lr01.png)"
   ]
  },
  {
   "cell_type": "markdown",
   "metadata": {},
   "source": [
    "## Learning rate 0.001"
   ]
  },
  {
   "cell_type": "markdown",
   "metadata": {},
   "source": [
    "![](lr001.png)"
   ]
  },
  {
   "cell_type": "markdown",
   "metadata": {},
   "source": [
    "## Learning rate 0.0001"
   ]
  },
  {
   "cell_type": "markdown",
   "metadata": {},
   "source": [
    "![](lr0001.png)"
   ]
  },
  {
   "cell_type": "markdown",
   "metadata": {},
   "source": [
    "## Todas las graficas "
   ]
  },
  {
   "cell_type": "markdown",
   "metadata": {},
   "source": [
    "![](Todoslr.png)"
   ]
  },
  {
   "cell_type": "markdown",
   "metadata": {},
   "source": [
    "## Grafo "
   ]
  },
  {
   "cell_type": "markdown",
   "metadata": {},
   "source": [
    "![](Diagrama_Grafo.png)"
   ]
  },
  {
   "cell_type": "markdown",
   "metadata": {},
   "source": [
    "Podemos conlcluir que a medida que el Learning rate sea menor, el modelo hara una mejor predicción de los datos, \n",
    "de lo contrario el error sera muy grande y la predicción sera erronea. "
   ]
  }
 ],
 "metadata": {
  "kernelspec": {
   "display_name": "Python 3",
   "language": "python",
   "name": "python3"
  },
  "language_info": {
   "codemirror_mode": {
    "name": "ipython",
    "version": 3
   },
   "file_extension": ".py",
   "mimetype": "text/x-python",
   "name": "python",
   "nbconvert_exporter": "python",
   "pygments_lexer": "ipython3",
   "version": "3.7.1"
  }
 },
 "nbformat": 4,
 "nbformat_minor": 2
}
